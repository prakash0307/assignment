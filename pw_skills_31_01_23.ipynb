{
 "cells": [
  {
   "cell_type": "markdown",
   "id": "e04abae5",
   "metadata": {},
   "source": [
    "# list , tuple , set"
   ]
  },
  {
   "cell_type": "markdown",
   "id": "c9d5d2ef",
   "metadata": {},
   "source": [
    "# list variable"
   ]
  },
  {
   "cell_type": "code",
   "execution_count": 1,
   "id": "d8476c9b",
   "metadata": {},
   "outputs": [],
   "source": [
    "# list is a variable where we can store the data\n",
    "l1 = [1,25,36,\"prakash\",True,5+8j,52.14]"
   ]
  },
  {
   "cell_type": "code",
   "execution_count": 3,
   "id": "f8f94fce",
   "metadata": {},
   "outputs": [
    {
     "data": {
      "text/plain": [
       "list"
      ]
     },
     "execution_count": 3,
     "metadata": {},
     "output_type": "execute_result"
    }
   ],
   "source": [
    "type(l1)"
   ]
  },
  {
   "cell_type": "code",
   "execution_count": 5,
   "id": "3703a606",
   "metadata": {},
   "outputs": [
    {
     "data": {
      "text/plain": [
       "'prakash'"
      ]
     },
     "execution_count": 5,
     "metadata": {},
     "output_type": "execute_result"
    }
   ],
   "source": [
    "# slicing and indexing \n",
    "l1[3]"
   ]
  },
  {
   "cell_type": "code",
   "execution_count": 6,
   "id": "de4d1989",
   "metadata": {},
   "outputs": [
    {
     "data": {
      "text/plain": [
       "(5+8j)"
      ]
     },
     "execution_count": 6,
     "metadata": {},
     "output_type": "execute_result"
    }
   ],
   "source": [
    "l1[5]"
   ]
  },
  {
   "cell_type": "code",
   "execution_count": 7,
   "id": "2c2f38f2",
   "metadata": {},
   "outputs": [
    {
     "data": {
      "text/plain": [
       "52.14"
      ]
     },
     "execution_count": 7,
     "metadata": {},
     "output_type": "execute_result"
    }
   ],
   "source": [
    "l1[6]"
   ]
  },
  {
   "cell_type": "code",
   "execution_count": 8,
   "id": "a5da96ca",
   "metadata": {},
   "outputs": [
    {
     "ename": "IndexError",
     "evalue": "list index out of range",
     "output_type": "error",
     "traceback": [
      "\u001b[1;31m---------------------------------------------------------------------------\u001b[0m",
      "\u001b[1;31mIndexError\u001b[0m                                Traceback (most recent call last)",
      "\u001b[1;32m~\\AppData\\Local\\Temp\\ipykernel_3564\\2645374427.py\u001b[0m in \u001b[0;36m<module>\u001b[1;34m\u001b[0m\n\u001b[1;32m----> 1\u001b[1;33m \u001b[0ml1\u001b[0m\u001b[1;33m[\u001b[0m\u001b[1;36m9\u001b[0m\u001b[1;33m]\u001b[0m\u001b[1;33m\u001b[0m\u001b[1;33m\u001b[0m\u001b[0m\n\u001b[0m",
      "\u001b[1;31mIndexError\u001b[0m: list index out of range"
     ]
    }
   ],
   "source": [
    "l1[9]"
   ]
  },
  {
   "cell_type": "code",
   "execution_count": 9,
   "id": "ab7d21ca",
   "metadata": {},
   "outputs": [
    {
     "data": {
      "text/plain": [
       "[1, 25, 36]"
      ]
     },
     "execution_count": 9,
     "metadata": {},
     "output_type": "execute_result"
    }
   ],
   "source": [
    "# slicing from [starting point:end point]\n",
    "l1[0:3]"
   ]
  },
  {
   "cell_type": "code",
   "execution_count": 11,
   "id": "675f5dc9",
   "metadata": {},
   "outputs": [
    {
     "data": {
      "text/plain": [
       "52.14"
      ]
     },
     "execution_count": 11,
     "metadata": {},
     "output_type": "execute_result"
    }
   ],
   "source": [
    "l1[-1]      # reverse indexing"
   ]
  },
  {
   "cell_type": "code",
   "execution_count": 13,
   "id": "e571ec8c",
   "metadata": {},
   "outputs": [
    {
     "data": {
      "text/plain": [
       "[52.14, (5+8j), True, 'prakash', 36, 25, 1]"
      ]
     },
     "execution_count": 13,
     "metadata": {},
     "output_type": "execute_result"
    }
   ],
   "source": [
    "l1[::-1]       # slicing in reverse order"
   ]
  },
  {
   "cell_type": "code",
   "execution_count": 14,
   "id": "720f9d35",
   "metadata": {},
   "outputs": [
    {
     "data": {
      "text/plain": [
       "[1, 25, 36, 'prakash', True, (5+8j), 52.14]"
      ]
     },
     "execution_count": 14,
     "metadata": {},
     "output_type": "execute_result"
    }
   ],
   "source": [
    "l1"
   ]
  },
  {
   "cell_type": "code",
   "execution_count": 15,
   "id": "711316c3",
   "metadata": {},
   "outputs": [
    {
     "data": {
      "text/plain": [
       "[1, 36, True, 52.14]"
      ]
     },
     "execution_count": 15,
     "metadata": {},
     "output_type": "execute_result"
    }
   ],
   "source": [
    "l1[::2]      # even order slicing"
   ]
  },
  {
   "cell_type": "code",
   "execution_count": 16,
   "id": "08c4e067",
   "metadata": {},
   "outputs": [],
   "source": [
    "s = \"prakash\""
   ]
  },
  {
   "cell_type": "code",
   "execution_count": 20,
   "id": "fbf481f3",
   "metadata": {},
   "outputs": [
    {
     "ename": "TypeError",
     "evalue": "can only concatenate list (not \"str\") to list",
     "output_type": "error",
     "traceback": [
      "\u001b[1;31m---------------------------------------------------------------------------\u001b[0m",
      "\u001b[1;31mTypeError\u001b[0m                                 Traceback (most recent call last)",
      "\u001b[1;32m~\\AppData\\Local\\Temp\\ipykernel_3564\\246238375.py\u001b[0m in \u001b[0;36m<module>\u001b[1;34m\u001b[0m\n\u001b[1;32m----> 1\u001b[1;33m \u001b[0ml1\u001b[0m\u001b[1;33m+\u001b[0m\u001b[0ms\u001b[0m     \u001b[1;31m# two different data type cannot execute\u001b[0m\u001b[1;33m\u001b[0m\u001b[1;33m\u001b[0m\u001b[0m\n\u001b[0m",
      "\u001b[1;31mTypeError\u001b[0m: can only concatenate list (not \"str\") to list"
     ]
    }
   ],
   "source": [
    "l1+s     # two different data type cannot execute"
   ]
  },
  {
   "cell_type": "code",
   "execution_count": 18,
   "id": "8ac42d63",
   "metadata": {},
   "outputs": [
    {
     "data": {
      "text/plain": [
       "['p', 'r', 'a', 'k', 'a', 's', 'h']"
      ]
     },
     "execution_count": 18,
     "metadata": {},
     "output_type": "execute_result"
    }
   ],
   "source": [
    "list(s)    # to remover the above we take list as a function but here we see that it will break the string"
   ]
  },
  {
   "cell_type": "code",
   "execution_count": 21,
   "id": "ab5d9105",
   "metadata": {},
   "outputs": [
    {
     "data": {
      "text/plain": [
       "[1, 25, 36, 'prakash', True, (5+8j), 52.14]"
      ]
     },
     "execution_count": 21,
     "metadata": {},
     "output_type": "execute_result"
    }
   ],
   "source": [
    "l1"
   ]
  },
  {
   "cell_type": "code",
   "execution_count": 22,
   "id": "1323ffbb",
   "metadata": {},
   "outputs": [
    {
     "data": {
      "text/plain": [
       "'prakash'"
      ]
     },
     "execution_count": 22,
     "metadata": {},
     "output_type": "execute_result"
    }
   ],
   "source": [
    "l1[3]    # slicing of list of a striing of string "
   ]
  },
  {
   "cell_type": "code",
   "execution_count": 23,
   "id": "3b329f3a",
   "metadata": {},
   "outputs": [
    {
     "data": {
      "text/plain": [
       "'pra'"
      ]
     },
     "execution_count": 23,
     "metadata": {},
     "output_type": "execute_result"
    }
   ],
   "source": [
    "l1[3][:3]"
   ]
  },
  {
   "cell_type": "code",
   "execution_count": 24,
   "id": "dbdb66f5",
   "metadata": {},
   "outputs": [
    {
     "data": {
      "text/plain": [
       "True"
      ]
     },
     "execution_count": 24,
     "metadata": {},
     "output_type": "execute_result"
    }
   ],
   "source": [
    "l1[4]"
   ]
  },
  {
   "cell_type": "code",
   "execution_count": 25,
   "id": "60e87ff1",
   "metadata": {},
   "outputs": [
    {
     "data": {
      "text/plain": [
       "'Tru'"
      ]
     },
     "execution_count": 25,
     "metadata": {},
     "output_type": "execute_result"
    }
   ],
   "source": [
    "str(l1[4])[:3]      # inbuilt function will be executed after type casting"
   ]
  },
  {
   "cell_type": "code",
   "execution_count": 26,
   "id": "0c6b2f30",
   "metadata": {},
   "outputs": [
    {
     "data": {
      "text/plain": [
       "[1, 25, 36, 'prakash', True, (5+8j), 52.14]"
      ]
     },
     "execution_count": 26,
     "metadata": {},
     "output_type": "execute_result"
    }
   ],
   "source": [
    "l1"
   ]
  },
  {
   "cell_type": "code",
   "execution_count": 27,
   "id": "df4e4228",
   "metadata": {},
   "outputs": [
    {
     "ename": "TypeError",
     "evalue": "can only concatenate list (not \"int\") to list",
     "output_type": "error",
     "traceback": [
      "\u001b[1;31m---------------------------------------------------------------------------\u001b[0m",
      "\u001b[1;31mTypeError\u001b[0m                                 Traceback (most recent call last)",
      "\u001b[1;32m~\\AppData\\Local\\Temp\\ipykernel_3564\\2651146239.py\u001b[0m in \u001b[0;36m<module>\u001b[1;34m\u001b[0m\n\u001b[1;32m----> 1\u001b[1;33m \u001b[0ml1\u001b[0m\u001b[1;33m+\u001b[0m\u001b[1;36m5\u001b[0m\u001b[1;33m\u001b[0m\u001b[1;33m\u001b[0m\u001b[0m\n\u001b[0m",
      "\u001b[1;31mTypeError\u001b[0m: can only concatenate list (not \"int\") to list"
     ]
    }
   ],
   "source": [
    "l1+5       # two different data type cannot be executed ,, unless and untill 5 is not converted into a list "
   ]
  },
  {
   "cell_type": "code",
   "execution_count": 30,
   "id": "cbcc6a50",
   "metadata": {},
   "outputs": [],
   "source": [
    "l2 =[3,4,5]"
   ]
  },
  {
   "cell_type": "code",
   "execution_count": 31,
   "id": "19b27a75",
   "metadata": {},
   "outputs": [
    {
     "data": {
      "text/plain": [
       "[3, 4, 5, 3, 4, 5]"
      ]
     },
     "execution_count": 31,
     "metadata": {},
     "output_type": "execute_result"
    }
   ],
   "source": [
    "l1+l2"
   ]
  },
  {
   "cell_type": "code",
   "execution_count": 32,
   "id": "0310a09c",
   "metadata": {},
   "outputs": [
    {
     "data": {
      "text/plain": [
       "[3, 4, 5]"
      ]
     },
     "execution_count": 32,
     "metadata": {},
     "output_type": "execute_result"
    }
   ],
   "source": [
    "l1"
   ]
  },
  {
   "cell_type": "code",
   "execution_count": 33,
   "id": "f5ed7d38",
   "metadata": {},
   "outputs": [],
   "source": [
    "l1 = [1, 25, 36, 'prakash', True, (5+8j), 52.14]"
   ]
  },
  {
   "cell_type": "code",
   "execution_count": 34,
   "id": "19b017bb",
   "metadata": {},
   "outputs": [
    {
     "data": {
      "text/plain": [
       "[1, 25, 36, 'prakash', True, (5+8j), 52.14, 3, 4, 5]"
      ]
     },
     "execution_count": 34,
     "metadata": {},
     "output_type": "execute_result"
    }
   ],
   "source": [
    "l1+l2"
   ]
  },
  {
   "cell_type": "code",
   "execution_count": 35,
   "id": "203cff97",
   "metadata": {},
   "outputs": [
    {
     "data": {
      "text/plain": [
       "[3, 4, 5, 3, 4, 5, 3, 4, 5]"
      ]
     },
     "execution_count": 35,
     "metadata": {},
     "output_type": "execute_result"
    }
   ],
   "source": [
    "l2*3     # multiply it with number of times "
   ]
  },
  {
   "cell_type": "code",
   "execution_count": 36,
   "id": "d8ff7e92",
   "metadata": {},
   "outputs": [
    {
     "data": {
      "text/plain": [
       "7"
      ]
     },
     "execution_count": 36,
     "metadata": {},
     "output_type": "execute_result"
    }
   ],
   "source": [
    "# no of elements\n",
    "len(l1)"
   ]
  },
  {
   "cell_type": "code",
   "execution_count": 37,
   "id": "77ac7c5e",
   "metadata": {},
   "outputs": [
    {
     "data": {
      "text/plain": [
       "[1, 25, 36, 'prakash', True, (5+8j), 52.14]"
      ]
     },
     "execution_count": 37,
     "metadata": {},
     "output_type": "execute_result"
    }
   ],
   "source": [
    "l1"
   ]
  },
  {
   "cell_type": "code",
   "execution_count": 39,
   "id": "2938a6db",
   "metadata": {},
   "outputs": [],
   "source": [
    "l1.append(5)       # append is inbuilt function , so the solution of two data type can be added by using append \n",
    "                    # it on the end of the list "
   ]
  },
  {
   "cell_type": "code",
   "execution_count": 40,
   "id": "a2534826",
   "metadata": {},
   "outputs": [
    {
     "data": {
      "text/plain": [
       "'prakash'"
      ]
     },
     "execution_count": 40,
     "metadata": {},
     "output_type": "execute_result"
    }
   ],
   "source": [
    "s"
   ]
  },
  {
   "cell_type": "code",
   "execution_count": 43,
   "id": "66aae9b4",
   "metadata": {},
   "outputs": [],
   "source": [
    "l1.append('s')"
   ]
  },
  {
   "cell_type": "code",
   "execution_count": 44,
   "id": "db87d274",
   "metadata": {},
   "outputs": [
    {
     "data": {
      "text/plain": [
       "[1, 25, 36, 'prakash', True, (5+8j), 52.14, 5, 'prakash', 'prakash', 's']"
      ]
     },
     "execution_count": 44,
     "metadata": {},
     "output_type": "execute_result"
    }
   ],
   "source": [
    "l1"
   ]
  },
  {
   "cell_type": "code",
   "execution_count": 45,
   "id": "fd1feac8",
   "metadata": {},
   "outputs": [
    {
     "data": {
      "text/plain": [
       "[3, 4, 5]"
      ]
     },
     "execution_count": 45,
     "metadata": {},
     "output_type": "execute_result"
    }
   ],
   "source": [
    "l2"
   ]
  },
  {
   "cell_type": "code",
   "execution_count": 51,
   "id": "49497902",
   "metadata": {},
   "outputs": [
    {
     "data": {
      "text/plain": [
       "[1,\n",
       " 25,\n",
       " 36,\n",
       " 'prakash',\n",
       " True,\n",
       " (5+8j),\n",
       " 52.14,\n",
       " 5,\n",
       " 'prakash',\n",
       " 'prakash',\n",
       " 's',\n",
       " [3, 4, 5],\n",
       " [3, 4, 5],\n",
       " [3, 4, 5]]"
      ]
     },
     "execution_count": 51,
     "metadata": {},
     "output_type": "execute_result"
    }
   ],
   "source": [
    "l1"
   ]
  },
  {
   "cell_type": "code",
   "execution_count": 50,
   "id": "b20d66e1",
   "metadata": {},
   "outputs": [
    {
     "data": {
      "text/plain": [
       "[1,\n",
       " 25,\n",
       " 36,\n",
       " 'prakash',\n",
       " True,\n",
       " (5+8j),\n",
       " 52.14,\n",
       " 5,\n",
       " 'prakash',\n",
       " 'prakash',\n",
       " 's',\n",
       " [3, 4, 5],\n",
       " [3, 4, 5],\n",
       " [3, 4, 5]]"
      ]
     },
     "execution_count": 50,
     "metadata": {},
     "output_type": "execute_result"
    }
   ],
   "source": []
  },
  {
   "cell_type": "code",
   "execution_count": 52,
   "id": "c5024072",
   "metadata": {},
   "outputs": [
    {
     "data": {
      "text/plain": [
       "[[3, 4, 5], [3, 4, 5], 'prakash', 5, (5+8j), 'prakash', 25]"
      ]
     },
     "execution_count": 52,
     "metadata": {},
     "output_type": "execute_result"
    }
   ],
   "source": [
    "l1[::-1][::2]"
   ]
  },
  {
   "cell_type": "code",
   "execution_count": 53,
   "id": "9dc1e8c3",
   "metadata": {},
   "outputs": [
    {
     "data": {
      "text/plain": [
       "4"
      ]
     },
     "execution_count": 53,
     "metadata": {},
     "output_type": "execute_result"
    }
   ],
   "source": [
    "l1[-1][1]     # how we can execute data from the fiven list"
   ]
  },
  {
   "cell_type": "code",
   "execution_count": 54,
   "id": "18dd35f7",
   "metadata": {},
   "outputs": [
    {
     "data": {
      "text/plain": [
       "[1,\n",
       " 25,\n",
       " 36,\n",
       " 'prakash',\n",
       " True,\n",
       " (5+8j),\n",
       " 52.14,\n",
       " 5,\n",
       " 'prakash',\n",
       " 'prakash',\n",
       " 's',\n",
       " [3, 4, 5],\n",
       " [3, 4, 5],\n",
       " [3, 4, 5]]"
      ]
     },
     "execution_count": 54,
     "metadata": {},
     "output_type": "execute_result"
    }
   ],
   "source": [
    "# extend \n",
    "l1"
   ]
  },
  {
   "cell_type": "code",
   "execution_count": 55,
   "id": "a5064308",
   "metadata": {},
   "outputs": [],
   "source": [
    "l3 = [1, 25, 36, 'prakash', True, (5+8j), 52.14, 5, 'prakash']"
   ]
  },
  {
   "cell_type": "code",
   "execution_count": 56,
   "id": "522e2453",
   "metadata": {},
   "outputs": [
    {
     "data": {
      "text/plain": [
       "[1, 25, 36, 'prakash', True, (5+8j), 52.14, 5, 'prakash']"
      ]
     },
     "execution_count": 56,
     "metadata": {},
     "output_type": "execute_result"
    }
   ],
   "source": [
    "l3            # executing this with extend"
   ]
  },
  {
   "cell_type": "code",
   "execution_count": 57,
   "id": "8108e468",
   "metadata": {},
   "outputs": [
    {
     "ename": "TypeError",
     "evalue": "'int' object is not iterable",
     "output_type": "error",
     "traceback": [
      "\u001b[1;31m---------------------------------------------------------------------------\u001b[0m",
      "\u001b[1;31mTypeError\u001b[0m                                 Traceback (most recent call last)",
      "\u001b[1;32m~\\AppData\\Local\\Temp\\ipykernel_3564\\2297973701.py\u001b[0m in \u001b[0;36m<module>\u001b[1;34m\u001b[0m\n\u001b[1;32m----> 1\u001b[1;33m \u001b[0ml3\u001b[0m\u001b[1;33m.\u001b[0m\u001b[0mextend\u001b[0m\u001b[1;33m(\u001b[0m\u001b[1;36m4\u001b[0m\u001b[1;33m)\u001b[0m\u001b[1;33m\u001b[0m\u001b[1;33m\u001b[0m\u001b[0m\n\u001b[0m",
      "\u001b[1;31mTypeError\u001b[0m: 'int' object is not iterable"
     ]
    }
   ],
   "source": [
    "l3.extend(4)    # extend except only those data which are iterable means data of data"
   ]
  },
  {
   "cell_type": "code",
   "execution_count": 58,
   "id": "1b1255c9",
   "metadata": {},
   "outputs": [],
   "source": [
    "l3.extend(\"prak\")"
   ]
  },
  {
   "cell_type": "code",
   "execution_count": 59,
   "id": "5ef77f19",
   "metadata": {},
   "outputs": [
    {
     "data": {
      "text/plain": [
       "[1, 25, 36, 'prakash', True, (5+8j), 52.14, 5, 'prakash', 'p', 'r', 'a', 'k']"
      ]
     },
     "execution_count": 59,
     "metadata": {},
     "output_type": "execute_result"
    }
   ],
   "source": [
    "l3             # those type of data can be passed data of data"
   ]
  },
  {
   "cell_type": "code",
   "execution_count": 60,
   "id": "2f5f59b1",
   "metadata": {},
   "outputs": [],
   "source": [
    "l3.extend([3,4,5])     # note as we append the data will enter it as it is , but extend will unrap the characters first\n",
    "        "
   ]
  },
  {
   "cell_type": "code",
   "execution_count": 61,
   "id": "8a553669",
   "metadata": {},
   "outputs": [
    {
     "data": {
      "text/plain": [
       "[1,\n",
       " 25,\n",
       " 36,\n",
       " 'prakash',\n",
       " True,\n",
       " (5+8j),\n",
       " 52.14,\n",
       " 5,\n",
       " 'prakash',\n",
       " 'p',\n",
       " 'r',\n",
       " 'a',\n",
       " 'k',\n",
       " 3,\n",
       " 4,\n",
       " 5]"
      ]
     },
     "execution_count": 61,
     "metadata": {},
     "output_type": "execute_result"
    }
   ],
   "source": [
    "l3"
   ]
  },
  {
   "cell_type": "code",
   "execution_count": 62,
   "id": "fd6e7d3d",
   "metadata": {},
   "outputs": [],
   "source": [
    "# uptill now we know what append and extend can do "
   ]
  },
  {
   "cell_type": "code",
   "execution_count": 63,
   "id": "861851fa",
   "metadata": {},
   "outputs": [],
   "source": [
    "l4 =[4,5,6]     # place the data in even position,  insert()"
   ]
  },
  {
   "cell_type": "code",
   "execution_count": 64,
   "id": "5e7bb963",
   "metadata": {},
   "outputs": [],
   "source": [
    "l1.insert(1,\"kamal\")"
   ]
  },
  {
   "cell_type": "code",
   "execution_count": 65,
   "id": "2e157f90",
   "metadata": {},
   "outputs": [
    {
     "data": {
      "text/plain": [
       "[1,\n",
       " 'kamal',\n",
       " 25,\n",
       " 36,\n",
       " 'prakash',\n",
       " True,\n",
       " (5+8j),\n",
       " 52.14,\n",
       " 5,\n",
       " 'prakash',\n",
       " 'prakash',\n",
       " 's',\n",
       " [3, 4, 5],\n",
       " [3, 4, 5],\n",
       " [3, 4, 5]]"
      ]
     },
     "execution_count": 65,
     "metadata": {},
     "output_type": "execute_result"
    }
   ],
   "source": [
    "l1"
   ]
  },
  {
   "cell_type": "code",
   "execution_count": 66,
   "id": "48d2016f",
   "metadata": {},
   "outputs": [],
   "source": [
    "l1.insert(2,[2,3,4])"
   ]
  },
  {
   "cell_type": "code",
   "execution_count": 67,
   "id": "4fd3236d",
   "metadata": {},
   "outputs": [
    {
     "data": {
      "text/plain": [
       "[1,\n",
       " 'kamal',\n",
       " [2, 3, 4],\n",
       " 25,\n",
       " 36,\n",
       " 'prakash',\n",
       " True,\n",
       " (5+8j),\n",
       " 52.14,\n",
       " 5,\n",
       " 'prakash',\n",
       " 'prakash',\n",
       " 's',\n",
       " [3, 4, 5],\n",
       " [3, 4, 5],\n",
       " [3, 4, 5]]"
      ]
     },
     "execution_count": 67,
     "metadata": {},
     "output_type": "execute_result"
    }
   ],
   "source": [
    "l1"
   ]
  },
  {
   "cell_type": "code",
   "execution_count": 68,
   "id": "4074e53e",
   "metadata": {},
   "outputs": [
    {
     "data": {
      "text/plain": [
       "[1,\n",
       " 'kamal',\n",
       " [2, 3, 4],\n",
       " 25,\n",
       " 36,\n",
       " 'prakash',\n",
       " True,\n",
       " (5+8j),\n",
       " 52.14,\n",
       " 5,\n",
       " 'prakash',\n",
       " 'prakash',\n",
       " 's',\n",
       " [3, 4, 5],\n",
       " [3, 4, 5],\n",
       " [3, 4, 5]]"
      ]
     },
     "execution_count": 68,
     "metadata": {},
     "output_type": "execute_result"
    }
   ],
   "source": [
    "l1"
   ]
  },
  {
   "cell_type": "code",
   "execution_count": 71,
   "id": "fcbfff92",
   "metadata": {},
   "outputs": [],
   "source": [
    "l3.insert(0,52)"
   ]
  },
  {
   "cell_type": "code",
   "execution_count": 72,
   "id": "022b1e7a",
   "metadata": {},
   "outputs": [
    {
     "data": {
      "text/plain": [
       "[52,\n",
       " 1,\n",
       " 25,\n",
       " 36,\n",
       " 'prakash',\n",
       " True,\n",
       " (5+8j),\n",
       " 52.14,\n",
       " 5,\n",
       " 'prakash',\n",
       " 'p',\n",
       " 'r',\n",
       " 'a',\n",
       " 'k',\n",
       " 3,\n",
       " 4,\n",
       " 52,\n",
       " 5]"
      ]
     },
     "execution_count": 72,
     "metadata": {},
     "output_type": "execute_result"
    }
   ],
   "source": [
    "l3"
   ]
  },
  {
   "cell_type": "code",
   "execution_count": 73,
   "id": "a3e17ae1",
   "metadata": {},
   "outputs": [
    {
     "data": {
      "text/plain": [
       "5"
      ]
     },
     "execution_count": 73,
     "metadata": {},
     "output_type": "execute_result"
    }
   ],
   "source": [
    "l3.pop()       # pop will remove the data from the last "
   ]
  },
  {
   "cell_type": "code",
   "execution_count": 74,
   "id": "0becfce8",
   "metadata": {},
   "outputs": [
    {
     "data": {
      "text/plain": [
       "[52,\n",
       " 1,\n",
       " 25,\n",
       " 36,\n",
       " 'prakash',\n",
       " True,\n",
       " (5+8j),\n",
       " 52.14,\n",
       " 5,\n",
       " 'prakash',\n",
       " 'p',\n",
       " 'r',\n",
       " 'a',\n",
       " 'k',\n",
       " 3,\n",
       " 4,\n",
       " 52]"
      ]
     },
     "execution_count": 74,
     "metadata": {},
     "output_type": "execute_result"
    }
   ],
   "source": [
    "l3"
   ]
  },
  {
   "cell_type": "code",
   "execution_count": 75,
   "id": "d6130875",
   "metadata": {},
   "outputs": [
    {
     "data": {
      "text/plain": [
       "52"
      ]
     },
     "execution_count": 75,
     "metadata": {},
     "output_type": "execute_result"
    }
   ],
   "source": [
    "l3.pop()     # by default the  data will remove from the last"
   ]
  },
  {
   "cell_type": "code",
   "execution_count": 76,
   "id": "2d45ab4f",
   "metadata": {},
   "outputs": [
    {
     "data": {
      "text/plain": [
       "36"
      ]
     },
     "execution_count": 76,
     "metadata": {},
     "output_type": "execute_result"
    }
   ],
   "source": [
    "l3.pop(3)    # it wil remove the data from the indexes also"
   ]
  },
  {
   "cell_type": "code",
   "execution_count": 77,
   "id": "63754f13",
   "metadata": {},
   "outputs": [],
   "source": [
    "l3.remove(3)      # pop always go ahead with the indexes but remove will go ahead with value"
   ]
  },
  {
   "cell_type": "code",
   "execution_count": 78,
   "id": "36860638",
   "metadata": {},
   "outputs": [
    {
     "data": {
      "text/plain": [
       "[52,\n",
       " 1,\n",
       " 25,\n",
       " 'prakash',\n",
       " True,\n",
       " (5+8j),\n",
       " 52.14,\n",
       " 5,\n",
       " 'prakash',\n",
       " 'p',\n",
       " 'r',\n",
       " 'a',\n",
       " 'k',\n",
       " 4]"
      ]
     },
     "execution_count": 78,
     "metadata": {},
     "output_type": "execute_result"
    }
   ],
   "source": [
    "l3"
   ]
  },
  {
   "cell_type": "code",
   "execution_count": 79,
   "id": "b49e5c0f",
   "metadata": {},
   "outputs": [
    {
     "ename": "ValueError",
     "evalue": "list.remove(x): x not in list",
     "output_type": "error",
     "traceback": [
      "\u001b[1;31m---------------------------------------------------------------------------\u001b[0m",
      "\u001b[1;31mValueError\u001b[0m                                Traceback (most recent call last)",
      "\u001b[1;32m~\\AppData\\Local\\Temp\\ipykernel_3564\\2050743244.py\u001b[0m in \u001b[0;36m<module>\u001b[1;34m\u001b[0m\n\u001b[1;32m----> 1\u001b[1;33m \u001b[0ml3\u001b[0m\u001b[1;33m.\u001b[0m\u001b[0mremove\u001b[0m\u001b[1;33m(\u001b[0m\u001b[1;36m234\u001b[0m\u001b[1;33m)\u001b[0m\u001b[1;33m\u001b[0m\u001b[1;33m\u001b[0m\u001b[0m\n\u001b[0m",
      "\u001b[1;31mValueError\u001b[0m: list.remove(x): x not in list"
     ]
    }
   ],
   "source": [
    "l3.remove(234)"
   ]
  },
  {
   "cell_type": "code",
   "execution_count": 80,
   "id": "ec72519c",
   "metadata": {},
   "outputs": [
    {
     "data": {
      "text/plain": [
       "[1,\n",
       " 'kamal',\n",
       " [2, 3, 4],\n",
       " 25,\n",
       " 36,\n",
       " 'prakash',\n",
       " True,\n",
       " (5+8j),\n",
       " 52.14,\n",
       " 5,\n",
       " 'prakash',\n",
       " 'prakash',\n",
       " 's',\n",
       " [3, 4, 5],\n",
       " [3, 4, 5],\n",
       " [3, 4, 5]]"
      ]
     },
     "execution_count": 80,
     "metadata": {},
     "output_type": "execute_result"
    }
   ],
   "source": [
    "l1"
   ]
  },
  {
   "cell_type": "code",
   "execution_count": 82,
   "id": "bdf41f54",
   "metadata": {},
   "outputs": [],
   "source": [
    "l1[2].remove(3)        # we can remove the value from list of list by this way "
   ]
  },
  {
   "cell_type": "code",
   "execution_count": 83,
   "id": "aba4629e",
   "metadata": {},
   "outputs": [
    {
     "data": {
      "text/plain": [
       "[1,\n",
       " 'kamal',\n",
       " [2, 4],\n",
       " 25,\n",
       " 36,\n",
       " 'prakash',\n",
       " True,\n",
       " (5+8j),\n",
       " 52.14,\n",
       " 5,\n",
       " 'prakash',\n",
       " 'prakash',\n",
       " 's',\n",
       " [3, 4, 5],\n",
       " [3, 4, 5],\n",
       " [3, 4, 5]]"
      ]
     },
     "execution_count": 83,
     "metadata": {},
     "output_type": "execute_result"
    }
   ],
   "source": [
    "l1"
   ]
  },
  {
   "cell_type": "code",
   "execution_count": 87,
   "id": "a5111607",
   "metadata": {},
   "outputs": [
    {
     "ename": "AttributeError",
     "evalue": "'str' object has no attribute 'remove'",
     "output_type": "error",
     "traceback": [
      "\u001b[1;31m---------------------------------------------------------------------------\u001b[0m",
      "\u001b[1;31mAttributeError\u001b[0m                            Traceback (most recent call last)",
      "\u001b[1;32m~\\AppData\\Local\\Temp\\ipykernel_3564\\672547708.py\u001b[0m in \u001b[0;36m<module>\u001b[1;34m\u001b[0m\n\u001b[1;32m----> 1\u001b[1;33m \u001b[0ml1\u001b[0m\u001b[1;33m[\u001b[0m\u001b[1;36m5\u001b[0m\u001b[1;33m]\u001b[0m\u001b[1;33m.\u001b[0m\u001b[0mremove\u001b[0m\u001b[1;33m(\u001b[0m\u001b[1;34m'pra'\u001b[0m\u001b[1;33m)\u001b[0m\u001b[1;33m\u001b[0m\u001b[1;33m\u001b[0m\u001b[0m\n\u001b[0m",
      "\u001b[1;31mAttributeError\u001b[0m: 'str' object has no attribute 'remove'"
     ]
    }
   ],
   "source": [
    "l1[5].remove('pra')"
   ]
  },
  {
   "cell_type": "code",
   "execution_count": 88,
   "id": "32db846d",
   "metadata": {},
   "outputs": [
    {
     "data": {
      "text/plain": [
       "[[3, 4, 5],\n",
       " [3, 4, 5],\n",
       " [3, 4, 5],\n",
       " 's',\n",
       " 'prakash',\n",
       " 'prakash',\n",
       " 5,\n",
       " 52.14,\n",
       " (5+8j),\n",
       " True,\n",
       " 'prakash',\n",
       " 36,\n",
       " 25,\n",
       " [2, 4],\n",
       " 'kamal',\n",
       " 1]"
      ]
     },
     "execution_count": 88,
     "metadata": {},
     "output_type": "execute_result"
    }
   ],
   "source": [
    "l1[::-1]       # it does not manupulate the orignal list "
   ]
  },
  {
   "cell_type": "code",
   "execution_count": 89,
   "id": "3ac81889",
   "metadata": {},
   "outputs": [],
   "source": [
    "l1.reverse()"
   ]
  },
  {
   "cell_type": "code",
   "execution_count": 90,
   "id": "f946f559",
   "metadata": {},
   "outputs": [
    {
     "data": {
      "text/plain": [
       "[[3, 4, 5],\n",
       " [3, 4, 5],\n",
       " [3, 4, 5],\n",
       " 's',\n",
       " 'prakash',\n",
       " 'prakash',\n",
       " 5,\n",
       " 52.14,\n",
       " (5+8j),\n",
       " True,\n",
       " 'prakash',\n",
       " 36,\n",
       " 25,\n",
       " [2, 4],\n",
       " 'kamal',\n",
       " 1]"
      ]
     },
     "execution_count": 90,
     "metadata": {},
     "output_type": "execute_result"
    }
   ],
   "source": [
    "l1          # reverse will change the value permanently"
   ]
  },
  {
   "cell_type": "markdown",
   "id": "45bb24a0",
   "metadata": {},
   "source": [
    "# sort"
   ]
  },
  {
   "cell_type": "code",
   "execution_count": 1,
   "id": "ff924d61",
   "metadata": {},
   "outputs": [],
   "source": [
    "# ascending order\n",
    "\n",
    "l4 = [7,5,8,2,6,1,3]\n",
    "l4.sort()"
   ]
  },
  {
   "cell_type": "code",
   "execution_count": 2,
   "id": "481e35c0",
   "metadata": {},
   "outputs": [
    {
     "data": {
      "text/plain": [
       "[1, 2, 3, 5, 6, 7, 8]"
      ]
     },
     "execution_count": 2,
     "metadata": {},
     "output_type": "execute_result"
    }
   ],
   "source": [
    "l4               # while sorting or compring between data you can compare it with similar data type"
   ]
  },
  {
   "cell_type": "code",
   "execution_count": 3,
   "id": "515c55b5",
   "metadata": {},
   "outputs": [],
   "source": [
    "l5 = [\"suman\",\"kumar\",\"dhiraj\",\"devesh\",\"anant\"]"
   ]
  },
  {
   "cell_type": "code",
   "execution_count": 8,
   "id": "c6191dc3",
   "metadata": {},
   "outputs": [],
   "source": [
    "l5.sort(reverse= False)         # arrange this in ascending order"
   ]
  },
  {
   "cell_type": "code",
   "execution_count": 9,
   "id": "e5293fe1",
   "metadata": {},
   "outputs": [
    {
     "data": {
      "text/plain": [
       "['anant', 'devesh', 'dhiraj', 'kumar', 'suman']"
      ]
     },
     "execution_count": 9,
     "metadata": {},
     "output_type": "execute_result"
    }
   ],
   "source": [
    "l5"
   ]
  },
  {
   "cell_type": "code",
   "execution_count": 12,
   "id": "e9a92eb7",
   "metadata": {},
   "outputs": [],
   "source": [
    "l5.sort(reverse=True)     # arrange in decending order"
   ]
  },
  {
   "cell_type": "code",
   "execution_count": 13,
   "id": "49c192cd",
   "metadata": {},
   "outputs": [
    {
     "data": {
      "text/plain": [
       "['suman', 'kumar', 'dhiraj', 'devesh', 'anant']"
      ]
     },
     "execution_count": 13,
     "metadata": {},
     "output_type": "execute_result"
    }
   ],
   "source": [
    "l5"
   ]
  },
  {
   "cell_type": "code",
   "execution_count": 14,
   "id": "ddcad953",
   "metadata": {},
   "outputs": [
    {
     "data": {
      "text/plain": [
       "1"
      ]
     },
     "execution_count": 14,
     "metadata": {},
     "output_type": "execute_result"
    }
   ],
   "source": [
    "l5.index(\"kumar\")     # it willl give you the place where we can place it "
   ]
  },
  {
   "cell_type": "code",
   "execution_count": 15,
   "id": "017a904c",
   "metadata": {},
   "outputs": [
    {
     "data": {
      "text/plain": [
       "1"
      ]
     },
     "execution_count": 15,
     "metadata": {},
     "output_type": "execute_result"
    }
   ],
   "source": [
    "l5.count(\"dhiraj\")    # it will provide the number of occurance of the data"
   ]
  },
  {
   "cell_type": "code",
   "execution_count": 16,
   "id": "4c1bd77d",
   "metadata": {},
   "outputs": [],
   "source": [
    " d = \"prak\""
   ]
  },
  {
   "cell_type": "code",
   "execution_count": 17,
   "id": "24ff00e2",
   "metadata": {},
   "outputs": [],
   "source": [
    "l6 = [5,6,7,2]"
   ]
  },
  {
   "cell_type": "code",
   "execution_count": 18,
   "id": "6285d227",
   "metadata": {},
   "outputs": [],
   "source": [
    "# replacing s r with a "
   ]
  },
  {
   "cell_type": "code",
   "execution_count": 19,
   "id": "a828b30b",
   "metadata": {},
   "outputs": [
    {
     "ename": "TypeError",
     "evalue": "'str' object does not support item assignment",
     "output_type": "error",
     "traceback": [
      "\u001b[1;31m---------------------------------------------------------------------------\u001b[0m",
      "\u001b[1;31mTypeError\u001b[0m                                 Traceback (most recent call last)",
      "\u001b[1;32m~\\AppData\\Local\\Temp\\ipykernel_10236\\3870761278.py\u001b[0m in \u001b[0;36m<module>\u001b[1;34m\u001b[0m\n\u001b[1;32m----> 1\u001b[1;33m \u001b[0md\u001b[0m\u001b[1;33m[\u001b[0m\u001b[1;36m0\u001b[0m\u001b[1;33m]\u001b[0m\u001b[1;33m=\u001b[0m \u001b[1;34m'k'\u001b[0m\u001b[1;33m\u001b[0m\u001b[1;33m\u001b[0m\u001b[0m\n\u001b[0m",
      "\u001b[1;31mTypeError\u001b[0m: 'str' object does not support item assignment"
     ]
    }
   ],
   "source": [
    "d[0]= 'k'"
   ]
  },
  {
   "cell_type": "code",
   "execution_count": 20,
   "id": "b1933e1a",
   "metadata": {},
   "outputs": [],
   "source": [
    "l6[0]=30"
   ]
  },
  {
   "cell_type": "code",
   "execution_count": 21,
   "id": "6a72589c",
   "metadata": {},
   "outputs": [
    {
     "data": {
      "text/plain": [
       "[30, 6, 7, 2]"
      ]
     },
     "execution_count": 21,
     "metadata": {},
     "output_type": "execute_result"
    }
   ],
   "source": [
    "l6"
   ]
  },
  {
   "cell_type": "code",
   "execution_count": 22,
   "id": "5c2205b0",
   "metadata": {},
   "outputs": [
    {
     "data": {
      "text/plain": [
       "'arak'"
      ]
     },
     "execution_count": 22,
     "metadata": {},
     "output_type": "execute_result"
    }
   ],
   "source": [
    "d.replace('p','a')      # the orignal will reamins the same this is the concept of immutability"
   ]
  },
  {
   "cell_type": "code",
   "execution_count": 23,
   "id": "c4fc4bc5",
   "metadata": {},
   "outputs": [
    {
     "data": {
      "text/plain": [
       "'prak'"
      ]
     },
     "execution_count": 23,
     "metadata": {},
     "output_type": "execute_result"
    }
   ],
   "source": [
    "d"
   ]
  },
  {
   "cell_type": "markdown",
   "id": "ccd7040b",
   "metadata": {},
   "source": [
    "# tuple"
   ]
  },
  {
   "cell_type": "code",
   "execution_count": 24,
   "id": "844bde27",
   "metadata": {},
   "outputs": [],
   "source": [
    "t = (1,2,3,4,5,\"prakash\",45.62,5+6j,[3,4,5]) # tuples is also a collection of data same as list"
   ]
  },
  {
   "cell_type": "code",
   "execution_count": 25,
   "id": "74b05d50",
   "metadata": {},
   "outputs": [
    {
     "data": {
      "text/plain": [
       "tuple"
      ]
     },
     "execution_count": 25,
     "metadata": {},
     "output_type": "execute_result"
    }
   ],
   "source": [
    "# type of tuples \n",
    "type(t)"
   ]
  },
  {
   "cell_type": "code",
   "execution_count": 26,
   "id": "22191bb6",
   "metadata": {},
   "outputs": [
    {
     "data": {
      "text/plain": [
       "8"
      ]
     },
     "execution_count": 26,
     "metadata": {},
     "output_type": "execute_result"
    }
   ],
   "source": [
    "len(t)"
   ]
  },
  {
   "cell_type": "code",
   "execution_count": 27,
   "id": "65f373f0",
   "metadata": {},
   "outputs": [
    {
     "data": {
      "text/plain": [
       "1"
      ]
     },
     "execution_count": 27,
     "metadata": {},
     "output_type": "execute_result"
    }
   ],
   "source": [
    "t[0]"
   ]
  },
  {
   "cell_type": "code",
   "execution_count": 28,
   "id": "8835e617",
   "metadata": {},
   "outputs": [
    {
     "data": {
      "text/plain": [
       "(5+6j)"
      ]
     },
     "execution_count": 28,
     "metadata": {},
     "output_type": "execute_result"
    }
   ],
   "source": [
    "t[-1]"
   ]
  },
  {
   "cell_type": "code",
   "execution_count": 29,
   "id": "cd0d9db0",
   "metadata": {},
   "outputs": [
    {
     "data": {
      "text/plain": [
       "((5+6j), 45.62, 'prakash', 5, 4, 3, 2, 1)"
      ]
     },
     "execution_count": 29,
     "metadata": {},
     "output_type": "execute_result"
    }
   ],
   "source": [
    "t[::-1]"
   ]
  },
  {
   "cell_type": "code",
   "execution_count": 30,
   "id": "f7e73ecc",
   "metadata": {},
   "outputs": [
    {
     "data": {
      "text/plain": [
       "['suman', 'kumar', 'dhiraj', 'devesh', 'anant']"
      ]
     },
     "execution_count": 30,
     "metadata": {},
     "output_type": "execute_result"
    }
   ],
   "source": [
    "l5 "
   ]
  },
  {
   "cell_type": "code",
   "execution_count": 31,
   "id": "b42b683d",
   "metadata": {},
   "outputs": [
    {
     "data": {
      "text/plain": [
       "'devesh'"
      ]
     },
     "execution_count": 31,
     "metadata": {},
     "output_type": "execute_result"
    }
   ],
   "source": [
    "l5[3]"
   ]
  },
  {
   "cell_type": "code",
   "execution_count": 32,
   "id": "394f0291",
   "metadata": {},
   "outputs": [],
   "source": [
    "l5[3]=45       # in list this is applicable "
   ]
  },
  {
   "cell_type": "code",
   "execution_count": 33,
   "id": "2bdbafdd",
   "metadata": {},
   "outputs": [
    {
     "data": {
      "text/plain": [
       "['suman', 'kumar', 'dhiraj', 45, 'anant']"
      ]
     },
     "execution_count": 33,
     "metadata": {},
     "output_type": "execute_result"
    }
   ],
   "source": [
    "l5"
   ]
  },
  {
   "cell_type": "code",
   "execution_count": 34,
   "id": "44879eae",
   "metadata": {},
   "outputs": [
    {
     "data": {
      "text/plain": [
       "(1, 2, 3, 4, 5, 'prakash', 45.62, (5+6j))"
      ]
     },
     "execution_count": 34,
     "metadata": {},
     "output_type": "execute_result"
    }
   ],
   "source": [
    "t"
   ]
  },
  {
   "cell_type": "code",
   "execution_count": 35,
   "id": "b873f49b",
   "metadata": {},
   "outputs": [
    {
     "ename": "TypeError",
     "evalue": "'tuple' object does not support item assignment",
     "output_type": "error",
     "traceback": [
      "\u001b[1;31m---------------------------------------------------------------------------\u001b[0m",
      "\u001b[1;31mTypeError\u001b[0m                                 Traceback (most recent call last)",
      "\u001b[1;32m~\\AppData\\Local\\Temp\\ipykernel_10236\\2831829623.py\u001b[0m in \u001b[0;36m<module>\u001b[1;34m\u001b[0m\n\u001b[1;32m----> 1\u001b[1;33m \u001b[0mt\u001b[0m\u001b[1;33m[\u001b[0m\u001b[1;36m2\u001b[0m\u001b[1;33m]\u001b[0m\u001b[1;33m=\u001b[0m\u001b[1;34m\"suman\"\u001b[0m\u001b[1;33m\u001b[0m\u001b[1;33m\u001b[0m\u001b[0m\n\u001b[0m",
      "\u001b[1;31mTypeError\u001b[0m: 'tuple' object does not support item assignment"
     ]
    }
   ],
   "source": [
    "t[2]=\"suman\"     # string and tuple does not support because they are immutable"
   ]
  },
  {
   "cell_type": "code",
   "execution_count": 36,
   "id": "5143e512",
   "metadata": {},
   "outputs": [],
   "source": [
    "# tuple is used where we can not change it, just like password \n"
   ]
  },
  {
   "cell_type": "code",
   "execution_count": 37,
   "id": "db020e9e",
   "metadata": {},
   "outputs": [
    {
     "data": {
      "text/plain": [
       "((5+6j), 45.62, 'prakash', 5, 4, 3, 2, 1)"
      ]
     },
     "execution_count": 37,
     "metadata": {},
     "output_type": "execute_result"
    }
   ],
   "source": [
    "t[::-1]       # it actually creates your new object created"
   ]
  },
  {
   "cell_type": "code",
   "execution_count": 38,
   "id": "dd665403",
   "metadata": {},
   "outputs": [
    {
     "data": {
      "text/plain": [
       "1"
      ]
     },
     "execution_count": 38,
     "metadata": {},
     "output_type": "execute_result"
    }
   ],
   "source": [
    "t.count(5)"
   ]
  },
  {
   "cell_type": "code",
   "execution_count": 39,
   "id": "f41f4248",
   "metadata": {},
   "outputs": [
    {
     "data": {
      "text/plain": [
       "5"
      ]
     },
     "execution_count": 39,
     "metadata": {},
     "output_type": "execute_result"
    }
   ],
   "source": [
    "t.index('prakash')"
   ]
  },
  {
   "cell_type": "markdown",
   "id": "def2ea3e",
   "metadata": {},
   "source": [
    "# set"
   ]
  },
  {
   "cell_type": "code",
   "execution_count": 40,
   "id": "24e4aa07",
   "metadata": {},
   "outputs": [],
   "source": [
    "s1={}"
   ]
  },
  {
   "cell_type": "code",
   "execution_count": 41,
   "id": "56339a9a",
   "metadata": {},
   "outputs": [
    {
     "data": {
      "text/plain": [
       "dict"
      ]
     },
     "execution_count": 41,
     "metadata": {},
     "output_type": "execute_result"
    }
   ],
   "source": [
    "type(s1)"
   ]
  },
  {
   "cell_type": "code",
   "execution_count": 42,
   "id": "ae02eb2c",
   "metadata": {},
   "outputs": [],
   "source": [
    "s2 ={1,2,4,6}"
   ]
  },
  {
   "cell_type": "code",
   "execution_count": 43,
   "id": "edfd01e1",
   "metadata": {},
   "outputs": [
    {
     "data": {
      "text/plain": [
       "set"
      ]
     },
     "execution_count": 43,
     "metadata": {},
     "output_type": "execute_result"
    }
   ],
   "source": [
    "type(s2)"
   ]
  },
  {
   "cell_type": "code",
   "execution_count": 44,
   "id": "3b6a70ab",
   "metadata": {},
   "outputs": [
    {
     "ename": "TypeError",
     "evalue": "unhashable type: 'list'",
     "output_type": "error",
     "traceback": [
      "\u001b[1;31m---------------------------------------------------------------------------\u001b[0m",
      "\u001b[1;31mTypeError\u001b[0m                                 Traceback (most recent call last)",
      "\u001b[1;32m~\\AppData\\Local\\Temp\\ipykernel_10236\\2343705736.py\u001b[0m in \u001b[0;36m<module>\u001b[1;34m\u001b[0m\n\u001b[1;32m----> 1\u001b[1;33m \u001b[0ms3\u001b[0m \u001b[1;33m=\u001b[0m\u001b[1;33m{\u001b[0m\u001b[1;36m324\u001b[0m\u001b[1;33m,\u001b[0m\u001b[1;36m254\u001b[0m\u001b[1;33m,\u001b[0m\u001b[1;36m65\u001b[0m\u001b[1;33m,\u001b[0m\u001b[1;34m\"prakash\"\u001b[0m\u001b[1;33m,\u001b[0m\u001b[1;36m5\u001b[0m\u001b[1;33m+\u001b[0m\u001b[1;36m4j\u001b[0m\u001b[1;33m,\u001b[0m\u001b[1;33m[\u001b[0m\u001b[1;36m4\u001b[0m\u001b[1;33m,\u001b[0m\u001b[1;36m5\u001b[0m\u001b[1;33m,\u001b[0m\u001b[1;36m6\u001b[0m\u001b[1;33m]\u001b[0m\u001b[1;33m}\u001b[0m\u001b[1;33m\u001b[0m\u001b[1;33m\u001b[0m\u001b[0m\n\u001b[0m",
      "\u001b[1;31mTypeError\u001b[0m: unhashable type: 'list'"
     ]
    }
   ],
   "source": [
    "s3 ={324,254,65,\"prakash\",5+4j,[4,5,6]}  # you can not take the collection of different data type i.e list"
   ]
  },
  {
   "cell_type": "code",
   "execution_count": 45,
   "id": "2245395b",
   "metadata": {},
   "outputs": [],
   "source": [
    "s3 ={324,254,65,\"prakash\",5+4j,(3,4,5)}    # tuples is immutable data type that is why it can take the tuples"
   ]
  },
  {
   "cell_type": "code",
   "execution_count": 46,
   "id": "bdd128c5",
   "metadata": {},
   "outputs": [
    {
     "data": {
      "text/plain": [
       "{(3, 4, 5), (5+4j), 254, 324, 65, 'prakash'}"
      ]
     },
     "execution_count": 46,
     "metadata": {},
     "output_type": "execute_result"
    }
   ],
   "source": [
    "s3"
   ]
  },
  {
   "cell_type": "code",
   "execution_count": 47,
   "id": "5c419555",
   "metadata": {},
   "outputs": [],
   "source": [
    "# why are we using set\n",
    "s4 = {2,5,6,7,8,9,5,4,3,2,1,5}    # data repeatative element , so here we use it as unique element"
   ]
  },
  {
   "cell_type": "code",
   "execution_count": 48,
   "id": "9bc00abe",
   "metadata": {},
   "outputs": [
    {
     "data": {
      "text/plain": [
       "{1, 2, 3, 4, 5, 6, 7, 8, 9}"
      ]
     },
     "execution_count": 48,
     "metadata": {},
     "output_type": "execute_result"
    }
   ],
   "source": [
    "s4                 # it will remove all the duplicate value "
   ]
  },
  {
   "cell_type": "code",
   "execution_count": 49,
   "id": "8028650f",
   "metadata": {},
   "outputs": [],
   "source": [
    "s4 = {2,5,6,7,8,9,5,4,3,2,1,5,\"prak\",\"Prak\"}     #case sensitive language"
   ]
  },
  {
   "cell_type": "code",
   "execution_count": 50,
   "id": "cd6672a4",
   "metadata": {},
   "outputs": [
    {
     "data": {
      "text/plain": [
       "{1, 2, 3, 4, 5, 6, 7, 8, 9, 'Prak', 'prak'}"
      ]
     },
     "execution_count": 50,
     "metadata": {},
     "output_type": "execute_result"
    }
   ],
   "source": [
    "s4"
   ]
  },
  {
   "cell_type": "code",
   "execution_count": 51,
   "id": "64723900",
   "metadata": {},
   "outputs": [],
   "source": [
    "# set is used when you want to remove duplicacy\n"
   ]
  },
  {
   "cell_type": "code",
   "execution_count": 52,
   "id": "feeee526",
   "metadata": {},
   "outputs": [],
   "source": [
    "l6 =s4 = {2,5,6,7,8,9,5,4,3,2,1,5,\"prak\",\"Prak\"} "
   ]
  },
  {
   "cell_type": "code",
   "execution_count": 55,
   "id": "85b94de1",
   "metadata": {},
   "outputs": [],
   "source": [
    "l6 = set(l6)"
   ]
  },
  {
   "cell_type": "markdown",
   "id": "eb588f0f",
   "metadata": {},
   "source": [
    "###### "
   ]
  },
  {
   "cell_type": "code",
   "execution_count": 56,
   "id": "17019312",
   "metadata": {},
   "outputs": [
    {
     "data": {
      "text/plain": [
       "{1, 2, 3, 4, 5, 6, 7, 8, 9, 'Prak', 'prak'}"
      ]
     },
     "execution_count": 56,
     "metadata": {},
     "output_type": "execute_result"
    }
   ],
   "source": [
    "l6"
   ]
  },
  {
   "cell_type": "code",
   "execution_count": 57,
   "id": "fb256455",
   "metadata": {},
   "outputs": [],
   "source": [
    " s6 = {236, 45,23,16,785,234,\"abc\",432,342,23}"
   ]
  },
  {
   "cell_type": "code",
   "execution_count": 58,
   "id": "a0986563",
   "metadata": {},
   "outputs": [
    {
     "data": {
      "text/plain": [
       "{16, 23, 234, 236, 342, 432, 45, 785, 'abc'}"
      ]
     },
     "execution_count": 58,
     "metadata": {},
     "output_type": "execute_result"
    }
   ],
   "source": [
    "s6        # set never arrange a data in ascending order , it willjust shoew it in unique manner"
   ]
  },
  {
   "cell_type": "code",
   "execution_count": 60,
   "id": "8da98541",
   "metadata": {},
   "outputs": [
    {
     "data": {
      "text/plain": [
       "{1, 2, 3, 4, 5, 6, 7, 8, 9, 'Prak', 'prak'}"
      ]
     },
     "execution_count": 60,
     "metadata": {},
     "output_type": "execute_result"
    }
   ],
   "source": [
    "s4"
   ]
  },
  {
   "cell_type": "code",
   "execution_count": 61,
   "id": "6c45c351",
   "metadata": {},
   "outputs": [
    {
     "ename": "TypeError",
     "evalue": "'set' object is not subscriptable",
     "output_type": "error",
     "traceback": [
      "\u001b[1;31m---------------------------------------------------------------------------\u001b[0m",
      "\u001b[1;31mTypeError\u001b[0m                                 Traceback (most recent call last)",
      "\u001b[1;32m~\\AppData\\Local\\Temp\\ipykernel_10236\\957271931.py\u001b[0m in \u001b[0;36m<module>\u001b[1;34m\u001b[0m\n\u001b[1;32m----> 1\u001b[1;33m \u001b[0ms4\u001b[0m\u001b[1;33m[\u001b[0m\u001b[1;36m0\u001b[0m\u001b[1;33m]\u001b[0m\u001b[1;33m\u001b[0m\u001b[1;33m\u001b[0m\u001b[0m\n\u001b[0m",
      "\u001b[1;31mTypeError\u001b[0m: 'set' object is not subscriptable"
     ]
    }
   ],
   "source": [
    "s4[0]    # not work in indexing "
   ]
  },
  {
   "cell_type": "code",
   "execution_count": 62,
   "id": "3eadc7b7",
   "metadata": {},
   "outputs": [
    {
     "ename": "TypeError",
     "evalue": "'set' object is not subscriptable",
     "output_type": "error",
     "traceback": [
      "\u001b[1;31m---------------------------------------------------------------------------\u001b[0m",
      "\u001b[1;31mTypeError\u001b[0m                                 Traceback (most recent call last)",
      "\u001b[1;32m~\\AppData\\Local\\Temp\\ipykernel_10236\\1993483155.py\u001b[0m in \u001b[0;36m<module>\u001b[1;34m\u001b[0m\n\u001b[1;32m----> 1\u001b[1;33m \u001b[0ms4\u001b[0m\u001b[1;33m[\u001b[0m\u001b[1;33m:\u001b[0m\u001b[1;33m:\u001b[0m\u001b[1;33m-\u001b[0m\u001b[1;36m1\u001b[0m\u001b[1;33m]\u001b[0m\u001b[1;33m\u001b[0m\u001b[1;33m\u001b[0m\u001b[0m\n\u001b[0m",
      "\u001b[1;31mTypeError\u001b[0m: 'set' object is not subscriptable"
     ]
    }
   ],
   "source": [
    "s4[::-1]      # slicing is also not applicable"
   ]
  },
  {
   "cell_type": "code",
   "execution_count": 63,
   "id": "a2c8e825",
   "metadata": {},
   "outputs": [
    {
     "data": {
      "text/plain": [
       "{1, 2, 3, 4, 5, 6, 7, 8, 9, 'Prak', 'prak'}"
      ]
     },
     "execution_count": 63,
     "metadata": {},
     "output_type": "execute_result"
    }
   ],
   "source": [
    "s4"
   ]
  },
  {
   "cell_type": "code",
   "execution_count": 66,
   "id": "9a198699",
   "metadata": {},
   "outputs": [],
   "source": [
    "s4.add(51)"
   ]
  },
  {
   "cell_type": "code",
   "execution_count": 67,
   "id": "709d7794",
   "metadata": {},
   "outputs": [
    {
     "data": {
      "text/plain": [
       "{1, 2, 3, 4, 5, 51, 6, 7, 8, 9, 'Prak', 'prak'}"
      ]
     },
     "execution_count": 67,
     "metadata": {},
     "output_type": "execute_result"
    }
   ],
   "source": [
    "s4          # add only the unique element"
   ]
  },
  {
   "cell_type": "code",
   "execution_count": 68,
   "id": "5b6a9e5d",
   "metadata": {},
   "outputs": [
    {
     "data": {
      "text/plain": [
       "{1, 2, 3, 4, 5, 51, 6, 7, 8, 9, 'Prak', 'prak'}"
      ]
     },
     "execution_count": 68,
     "metadata": {},
     "output_type": "execute_result"
    }
   ],
   "source": [
    "s4"
   ]
  },
  {
   "cell_type": "code",
   "execution_count": 69,
   "id": "a92e19d2",
   "metadata": {},
   "outputs": [],
   "source": [
    "s4.remove(4)"
   ]
  },
  {
   "cell_type": "code",
   "execution_count": 70,
   "id": "48d14b6a",
   "metadata": {},
   "outputs": [
    {
     "data": {
      "text/plain": [
       "{1, 2, 3, 5, 51, 6, 7, 8, 9, 'Prak', 'prak'}"
      ]
     },
     "execution_count": 70,
     "metadata": {},
     "output_type": "execute_result"
    }
   ],
   "source": [
    "s4"
   ]
  },
  {
   "cell_type": "code",
   "execution_count": null,
   "id": "68362e36",
   "metadata": {},
   "outputs": [],
   "source": []
  }
 ],
 "metadata": {
  "kernelspec": {
   "display_name": "Python 3 (ipykernel)",
   "language": "python",
   "name": "python3"
  },
  "language_info": {
   "codemirror_mode": {
    "name": "ipython",
    "version": 3
   },
   "file_extension": ".py",
   "mimetype": "text/x-python",
   "name": "python",
   "nbconvert_exporter": "python",
   "pygments_lexer": "ipython3",
   "version": "3.9.13"
  }
 },
 "nbformat": 4,
 "nbformat_minor": 5
}
